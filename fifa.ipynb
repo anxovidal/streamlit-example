{
 "cells": [
  {
   "cell_type": "code",
   "execution_count": 74,
   "id": "b9dfb83e",
   "metadata": {},
   "outputs": [],
   "source": [
    "import streamlit as st\n",
    "\n"
   ]
  },
  {
   "cell_type": "code",
   "execution_count": 75,
   "id": "dc0e287b",
   "metadata": {},
   "outputs": [],
   "source": [
    "import pandas as pd\n",
    "import plotly.express as px"
   ]
  },
  {
   "cell_type": "code",
   "execution_count": 76,
   "id": "1f052c05",
   "metadata": {
    "scrolled": false
   },
   "outputs": [],
   "source": [
    "df_origin = pd.read_csv(\"Fifa 23 Players Data.csv\")"
   ]
  },
  {
   "cell_type": "code",
   "execution_count": 77,
   "id": "61a0cbf4",
   "metadata": {},
   "outputs": [],
   "source": [
    "with st.sidebar:\n",
    "    nationality= st.multiselect(\"Nacionalidad\", sorted(df_origin[\"Nationality\"].unique()))\n",
    "    team = st.multiselect(\"Equipo\", sorted(df_origin[\"Club Name\"].unique()))\n",
    "    is_national = st.checkbox(\"Selección Nacional\")\n",
    "                          \n",
    "                          "
   ]
  },
  {
   "cell_type": "code",
   "execution_count": 78,
   "id": "a2ccfdc2",
   "metadata": {},
   "outputs": [],
   "source": [
    "def filter_data(df, nationality, team, is_national):\n",
    "    df_copy = df.copy()\n",
    "    \n",
    "    if len(nationality)>0:\n",
    "        df_copy = df_copy[df_copy[\"Nationality\"].isin(nationality)]\n",
    "    if len(team)>0:\n",
    "        df_copy = df_copy[df_copy[\"Club Name\"].isin(Team)]\n",
    "    \n",
    "    if is_national ==True:\n",
    "        df_copy = df_copy[df_copy[\"National Team Name\"] != \"-\"]\n",
    "        \n",
    "    return df_copy"
   ]
  },
  {
   "cell_type": "code",
   "execution_count": 79,
   "id": "609a76be",
   "metadata": {},
   "outputs": [
    {
     "data": {
      "text/plain": [
       "DeltaGenerator()"
      ]
     },
     "execution_count": 79,
     "metadata": {},
     "output_type": "execute_result"
    }
   ],
   "source": [
    "df_ = filter_data(df_origin, nationality, team, is_national)\n",
    "st.title(\"Fifa 2023\")\n",
    "st.subheader(\"Análisis de Equipos\")\n",
    "\n",
    "total_jugadores = len(df_)\n",
    "rating_medio = df_[\"Overall\"].mean()\n",
    "valor_medio = df_[\"Value(in Euro)\"].mean()\n",
    "\n",
    "col1, col2, col3 = st.columns(3)\n",
    "col1.metric(\"# Jugadores\", f\"{total_jugadores:,.0f}\")\n",
    "col2.metric(\"Rating Medio\", f\"{rating_medio:,.1f}\")\n",
    "col3.metric(\"Valor $ Medio\", f\"{valor_medio:,.0f}\")"
   ]
  },
  {
   "cell_type": "code",
   "execution_count": 80,
   "id": "d3385cca",
   "metadata": {},
   "outputs": [],
   "source": [
    "def get_team_statistics(df):\n",
    "    radar_columns = [\"Pace Total\", \"Shooting Total\", \"Passing Total\",\n",
    "                   \"Dribbling Total\", \"Defending Total\", \"Physicality Total\"]\n",
    "    metrics = []\n",
    "    for metric in radar_columns:\n",
    "        metrics.append(df_[metric].mean())\n",
    "        \n",
    "    return pd.DataFrame(dict(metrics=metrics, theta=radar_columns))"
   ]
  },
  {
   "cell_type": "code",
   "execution_count": 81,
   "id": "afcf4b26",
   "metadata": {},
   "outputs": [
    {
     "name": "stderr",
     "output_type": "stream",
     "text": [
      "C:\\Users\\usuario\\anaconda3\\lib\\site-packages\\plotly\\express\\_core.py:271: FutureWarning:\n",
      "\n",
      "The frame.append method is deprecated and will be removed from pandas in a future version. Use pandas.concat instead.\n",
      "\n"
     ]
    },
    {
     "data": {
      "text/plain": [
       "DeltaGenerator()"
      ]
     },
     "execution_count": 81,
     "metadata": {},
     "output_type": "execute_result"
    }
   ],
   "source": [
    "radar_fig = px.line_polar(get_team_statistics(df_), r=\"metrics\", theta=\"theta\", line_close=True)\n",
    "\n",
    "radar_fig.update_layout(\n",
    "  polar=dict(\n",
    "    radialaxis=dict(\n",
    "      visible=True,\n",
    "      range=[0,100]\n",
    "      )),\n",
    "   showlegend=False \n",
    ")\n",
    "st.plotly_chart(radar_fig)\n",
    "\n",
    "st.dataframe(df_)"
   ]
  },
  {
   "cell_type": "code",
   "execution_count": null,
   "id": "76083fb7",
   "metadata": {},
   "outputs": [],
   "source": []
  },
  {
   "cell_type": "code",
   "execution_count": null,
   "id": "cb4cf0b1",
   "metadata": {},
   "outputs": [],
   "source": []
  }
 ],
 "metadata": {
  "kernelspec": {
   "display_name": "Python 3 (ipykernel)",
   "language": "python",
   "name": "python3"
  },
  "language_info": {
   "codemirror_mode": {
    "name": "ipython",
    "version": 3
   },
   "file_extension": ".py",
   "mimetype": "text/x-python",
   "name": "python",
   "nbconvert_exporter": "python",
   "pygments_lexer": "ipython3",
   "version": "3.10.9"
  }
 },
 "nbformat": 4,
 "nbformat_minor": 5
}
